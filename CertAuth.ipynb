{
 "cells": [
  {
   "cell_type": "markdown",
   "metadata": {},
   "source": [
    "Public Certificate     :subject.crt\n",
    "Private Key in         :cert_bckup.p12\n",
    "Password on .p12 file  :CSE539_Rocks!\n",
    "CA Public Certificate  :root.cer"
   ]
  },
  {
   "cell_type": "markdown",
   "metadata": {},
   "source": [
    "#Done\n",
    "1. Verify Subject's certificate: True if valid, False otherwise\n",
    "Throws exception- use Try Catch\n",
    "\n",
    "#Done\n",
    "2. From Subject's Certificate, print:\n",
    "subject name, issuer, serial number,\n",
    "encryption algorithm, not valid before, not valid after\n",
    "\n",
    "#Done\n",
    "3. Print subject's public & private key.\n",
    "the public key is represented by the integers n and e\n",
    "the private key, by the integer d\n",
    "    a. Public Key Modulus (n)\n",
    "    b. Public Key Exponent (e)\n",
    "    c. Private Key Exponent (d)\n",
    "\n",
    "#Done\n",
    "4. Print public key of CA:\n",
    "    a. Root Public Key Modulus (n)\n",
    "    b. Root Public Key Exponent (e)\n",
    "\n",
    "#Done\n",
    "5. Print hex signature on subject's certificate\n",
    "\n",
    "#Done\n",
    "6. Encrypt string using RSA:\n",
    "    b'Hello World'\n",
    "    \n",
    "    Use OEAP padding,\n",
    "    Mask generation function: MGF1\n",
    "        & SHA256 hash function\n",
    "    Encrypt & Decrypt to verify!\n",
    "    \n",
    "    Encrypt using subject's public key,\n",
    "    Decrypt using subject's private key."
   ]
  },
  {
   "cell_type": "markdown",
   "metadata": {},
   "source": [
    "Input arguments:\n",
    "    p12 file path\n",
    "    CA (root) crt file path\n",
    "    client (subject) crt file path\n",
    "    password"
   ]
  },
  {
   "cell_type": "code",
   "execution_count": 1,
   "metadata": {},
   "outputs": [],
   "source": [
    "#InputArguments\n",
    "p12FilePath=\"/Users/atinsinghal97/Desktop/Project 4/Certificates/cert_bckup.p12\" #sys.argv[1]\n",
    "rootCertificatePath=\"/Users/atinsinghal97/Desktop/Project 4/Certificates/root.crt\" #sys.argv[2]\n",
    "clientCertificatePath=\"/Users/atinsinghal97/Desktop/Project 4/Certificates/subject.crt\" #sys.argv[3]\n",
    "password=\"CSE539_Rocks!\" #sys.argv[4]\n",
    "\n",
    "#check len(sys.argv)"
   ]
  },
  {
   "cell_type": "code",
   "execution_count": 2,
   "metadata": {
    "scrolled": true
   },
   "outputs": [],
   "source": [
    "import OpenSSL.crypto\n",
    "import cryptography.x509\n",
    "from cryptography.hazmat.primitives.serialization import load_pem_public_key, load_pem_private_key\n",
    "from cryptography.hazmat.primitives.asymmetric import rsa, padding\n",
    "from cryptography.hazmat.primitives import serialization, hashes\n",
    "from cryptography.hazmat.backends import default_backend\n",
    "#from cryptography.hazmat.primitives import hashes"
   ]
  },
  {
   "cell_type": "code",
   "execution_count": 3,
   "metadata": {},
   "outputs": [],
   "source": [
    "#Initializing certificate objects\n",
    "\n",
    "certObject=OpenSSL.crypto\n",
    "\n",
    "clientCertificateFile=open(clientCertificatePath, 'rt').read()\n",
    "clientCertificate=certObject.load_certificate(certObject.FILETYPE_PEM, clientCertificateFile)\n",
    "\n",
    "p12File=open(p12FilePath, 'rt').read()\n",
    "p12=OpenSSL.crypto.load_pkcs12(p12File, password)\n",
    "\n",
    "rootCertificateFile=open(rootCertificatePath, 'rt').read()\n",
    "rootCertificate=certObject.load_certificate(certObject.FILETYPE_PEM, rootCertificateFile)\n"
   ]
  },
  {
   "cell_type": "code",
   "execution_count": 4,
   "metadata": {},
   "outputs": [
    {
     "name": "stdout",
     "output_type": "stream",
     "text": [
      "Certification Verification: False\n"
     ]
    }
   ],
   "source": [
    "#1- Verify Subject's certificate: True if valid, False otherwise\n",
    "\n",
    "try:\n",
    "    #print('Verify: ', clientCertificate.verify(clientCertificate.get_pubkey()))\n",
    "    storeObject=OpenSSL.crypto.X509Store()\n",
    "    storeObject.add_cert(rootCertificate)\n",
    "    #print (storeObject)\n",
    "\n",
    "    #forVerification=OpenSSL.crypto.X509StoreContext\n",
    "    #forVerification.set_store(storeObject)\n",
    "    forVerification = OpenSSL.crypto.X509StoreContext(storeObject, clientCertificate)\n",
    "    forVerification.set_store(storeObject)\n",
    "    forVerification.verify_certificate()\n",
    "    print ('Certificate Verification: True')\n",
    "\n",
    "except Exception as e:\n",
    "    print('Certification Verification: False')\n",
    "    #print('Error: ', e)\n"
   ]
  },
  {
   "cell_type": "code",
   "execution_count": 14,
   "metadata": {},
   "outputs": [
    {
     "name": "stdout",
     "output_type": "stream",
     "text": [
      "('Subject Common Name: ', u'sundevilsafe.com')\n",
      "('Issuer Common Name: ', u'Sectigo RSA Domain Validation Secure Server CA')\n",
      "('Serial Number: ', 279175654248908418197316606967672119883L)\n",
      "('Encryption Algorithm:', 'sha256WithRSAEncryption')\n",
      "('Not Valid Before: ', '20190322000000Z')\n",
      "('Not Valid After: ', '20190620235959Z')\n"
     ]
    }
   ],
   "source": [
    "#2- Print Subject Name, Issuer, Serial Number, Encryption Algorithm, Not Valid Before, Not Valid After\n",
    "\n",
    "print('Subject Common Name: ', clientCertificate.get_subject().commonName)\n",
    "print('Issuer Common Name: ', clientCertificate.get_issuer().commonName)\n",
    "print('Serial Number: ', clientCertificate.get_serial_number())\n",
    "print('Encryption Algorithm:', clientCertificate.get_signature_algorithm())\n",
    "print('Not Valid Before: ', clientCertificate.get_notBefore())\n",
    "print('Not Valid After: ', clientCertificate.get_notAfter())"
   ]
  },
  {
   "cell_type": "code",
   "execution_count": 12,
   "metadata": {},
   "outputs": [
    {
     "name": "stdout",
     "output_type": "stream",
     "text": [
      "Public Key of Subject(n): \n",
      "21077153818761509013420887295789777526381470891059241603835731174578561528272514732364372022128313222798429799591634889643647267740984746901232961644484807420124065572225124454192930109284610798617935357525847868490316254559361469173074997262741836934984543216611426323596674966026821843549785698420735419753126471392900277945728904520317719259592910223328604555566083744041993316206931791473030770736422668152835623336582614954598264269116246863755011903025431632958306918948555150293497429964013313496981504332051411997440129210325623096165343650017640049684435715502081065400604868571467789815798919466984120998231\n",
      "('e: ', 65537)\n",
      "Private Key of Subject(d): \n",
      "20469316708160485896168564531716922810345323676751263413939191328080347064863523584704749776346197593595246371585650637367429355172047182294318847517990212213995703213076773366739664962778851999628236442016687356543680038053918846277045094386098382522864354824109548060148581283285916808465648570233372709477222926078396437063074558652509596240217659669058906477447694617589514669915022823005730080777796709538516201141180486675691317261285377759600040684392562040472934417058570908651695501267618994383882755575654905239170830103038997863787228548690240631428563719194486647898359199841788125780247777507705990187345\n"
     ]
    }
   ],
   "source": [
    "#3- Print Subject's Public & Private Key\n",
    "\n",
    "#print(clientCertificate.get_pubkey())\n",
    "pubKeyObject=clientCertificate.get_pubkey()\n",
    "pubKeyString=certObject.dump_publickey(certObject.FILETYPE_PEM, pubKeyObject)\n",
    "print ('Public Key of Subject(n): ')\n",
    "#print (pubKeyString)\n",
    "\n",
    "pubKey = load_pem_public_key(pubKeyString, backend=default_backend()).public_numbers().n\n",
    "print (pubKey)\n",
    "e = load_pem_public_key(pubKeyString, backend=default_backend()).public_numbers().e\n",
    "print ('e: ', e)\n",
    "\n",
    "p12Certificate=p12.get_certificate()\n",
    "p12Key=p12.get_privatekey()\n",
    "#print (p12Key)\n",
    "privateKeyString=OpenSSL.crypto.dump_privatekey(certObject.FILETYPE_PEM, p12Key)\n",
    "print ('Private Key of Subject(d): ')\n",
    "#print (privateKeyString)\n",
    "\n",
    "privateKey = load_pem_private_key(privateKeyString, password=None,backend=default_backend()).private_numbers().d\n",
    "print (privateKey)"
   ]
  },
  {
   "cell_type": "code",
   "execution_count": 7,
   "metadata": {},
   "outputs": [
    {
     "name": "stdout",
     "output_type": "stream",
     "text": [
      "Public Key of Certification Authority(n): \n",
      "27071805731268068429094433253870941103630115656544083986688557250096650002741356969068276793574297189996744882329828714710418422450500008985954757761749612179194262954838266897268532461471487935006536720272494786369295065485985775416665556679189441271529970596944264659076045397506534017596880375081936227230390079744485923579156075147392924215968126808432802589158460341539735535162275393422353916283261069707744210608603163551594107036190302366892832801673071921401850194237815007641724075220215236537097134132878656895768334289537403738520740616524362273323209296475725089291190047065303870231628551068954108124949\n",
      "('e: ', 65537)\n"
     ]
    }
   ],
   "source": [
    "#4- Print Public key of CA\n",
    "\n",
    "#print(rootCertificate.get_pubkey())\n",
    "rootPubKeyObject=rootCertificate.get_pubkey()\n",
    "rootPubKeyString=certObject.dump_publickey(certObject.FILETYPE_PEM, rootPubKeyObject)\n",
    "print ('Public Key of Certification Authority(n): ')\n",
    "#print (rootPubKeyObject)\n",
    "#print (rootPubKeyString)\n",
    "\n",
    "rootPubKey = load_pem_public_key(rootPubKeyString, backend=default_backend()).public_numbers().n\n",
    "print (rootPubKey)\n",
    "eRoot = load_pem_public_key(rootPubKeyString, backend=default_backend()).public_numbers().e\n",
    "print ('e: ', eRoot)\n"
   ]
  },
  {
   "cell_type": "code",
   "execution_count": 8,
   "metadata": {},
   "outputs": [
    {
     "name": "stdout",
     "output_type": "stream",
     "text": [
      "Hex Signature of Subject's Certificate: \n",
      "2507d45cba6f3cf90bb9def0bd750413b3cd6041875be309d016846dda8ff56e026929d3cabc8021fcc58983201d5674ac08baaafc8fad36176523e40cf68f7a6ccb1829bdcdf243c161f352b1063a69c497254d388d6da96680b36eb1bef61e1f92e0647ff33fc3ce1fc1b96ea6fb8feea16c019d2c7f01eeef999b15c5b7ac6faf5ba266023aa5a7cfde17385c4f8f641f0690dda072ca283391afb6d570bca1e786ce7f981d412da48fd7666a5a902981ce39f406d1092bfd54c046e2a6cb4933075b9d3c5bd590ad2f84112e95ab8a7e581bd4860ae38813316874ec67b532cf137720694c00ba539aba66775a5e7be5e575ebe168415b0a1f12b5ddc85a\n"
     ]
    }
   ],
   "source": [
    "#5- Print Hex Signature on Subject's Certificate\n",
    "\n",
    "x509Object=cryptography.x509.Certificate\n",
    "\n",
    "x509Certificate=cryptography.x509.load_pem_x509_certificate(clientCertificateFile, default_backend())\n",
    "#x509Certificate=x509Object.load_certificate(certObject.FILETYPE_PEM, clientCertificateFile)\n",
    "\n",
    "print (\"Hex Signature of Subject's Certificate: \")\n",
    "print (x509Certificate.signature.encode('hex'))"
   ]
  },
  {
   "cell_type": "code",
   "execution_count": 9,
   "metadata": {},
   "outputs": [
    {
     "name": "stdout",
     "output_type": "stream",
     "text": [
      "('CipherText: ', '06de04166ddace3b89e4520405a3c9ae03e2840d606eb362ffc4fbf395c61f7f2aa25ae5ffa06b9219e158ad4170aaf84c7b41eed51172e2a5217c8fa557abeca4599f5d69aae3563c4141ff3dae5ce2c835b9729d03233c9e516de21d75f14ef688eba99a57673781abbd2eda763cfe8356ef0b2ce6a022d606056d5998382aa5a326a096d683a5c61e376c5b4015cd3a0e700a2461c0fcab54be3858c20d46da4369e2e5634e03459a2873d9de5446aaace4d102045e598d0ecace2d04fdb53f89387277756825ff28bae22dcce75e2ae80143f75ebb3492753055cf9831327c265a8a3194a4792b5468ad065d563f749d60712c2c7264ac312de6bf29c853')\n",
      "('PlainText: ', 'Hello World')\n"
     ]
    }
   ],
   "source": [
    "#6- Encrypt String using RSA: b'Hello World'\n",
    "\n",
    "message = b'Hello World'\n",
    "\n",
    "#publicKey serialization\n",
    "serializedPubKey= serialization.load_pem_public_key(\n",
    "    pubKeyString,\n",
    "    backend=default_backend()\n",
    ")\n",
    "\n",
    "#encryption\n",
    "cipherText= serializedPubKey.encrypt(\n",
    "    message,\n",
    "    padding.OAEP(\n",
    "        mgf=padding.MGF1(algorithm=hashes.SHA256()),\n",
    "        algorithm=hashes.SHA256(),\n",
    "        label=None\n",
    "    )\n",
    ")\n",
    "\n",
    "#privateKey serialization\n",
    "serializedPrivateKey= serialization.load_pem_private_key(\n",
    "    privateKeyString,\n",
    "    password= None,\n",
    "    backend=default_backend()\n",
    ")\n",
    "\n",
    "plainText= serializedPrivateKey.decrypt(\n",
    "    cipherText,\n",
    "    padding.OAEP(\n",
    "        mgf=padding.MGF1(algorithm=hashes.SHA256()),\n",
    "        algorithm=hashes.SHA256(),\n",
    "        label=None\n",
    "    )\n",
    ")\n",
    "\n",
    "print ('CipherText: ', cipherText.encode('hex'))\n",
    "print ('PlainText: ', plainText)\n"
   ]
  },
  {
   "cell_type": "code",
   "execution_count": null,
   "metadata": {},
   "outputs": [],
   "source": []
  },
  {
   "cell_type": "code",
   "execution_count": null,
   "metadata": {},
   "outputs": [],
   "source": []
  },
  {
   "cell_type": "code",
   "execution_count": null,
   "metadata": {},
   "outputs": [],
   "source": []
  },
  {
   "cell_type": "code",
   "execution_count": null,
   "metadata": {},
   "outputs": [],
   "source": []
  },
  {
   "cell_type": "code",
   "execution_count": null,
   "metadata": {},
   "outputs": [],
   "source": []
  }
 ],
 "metadata": {
  "kernelspec": {
   "display_name": "Python 2",
   "language": "python",
   "name": "python2"
  },
  "language_info": {
   "codemirror_mode": {
    "name": "ipython",
    "version": 2
   },
   "file_extension": ".py",
   "mimetype": "text/x-python",
   "name": "python",
   "nbconvert_exporter": "python",
   "pygments_lexer": "ipython2",
   "version": "2.7.16"
  }
 },
 "nbformat": 4,
 "nbformat_minor": 2
}
